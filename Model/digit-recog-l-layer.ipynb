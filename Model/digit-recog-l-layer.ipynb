{
 "cells": [
  {
   "cell_type": "code",
   "execution_count": 2,
   "metadata": {},
   "outputs": [],
   "source": [
    "import pandas as pd\n",
    "import numpy as np\n",
    "import matplotlib.pyplot as plt\n",
    "import json\n",
    "\n",
    "%load_ext autoreload\n",
    "%autoreload 1"
   ]
  },
  {
   "cell_type": "code",
   "execution_count": 7,
   "metadata": {},
   "outputs": [],
   "source": [
    "def relu(Z):\n",
    "    cache = Z\n",
    "    A = np.maximum(0, Z)\n",
    "    return A, cache\n",
    "\n",
    "def softmax(Z):\n",
    "    cache = Z\n",
    "    exp_Z = np.exp(Z)\n",
    "    A = exp_Z / np.sum(exp_Z, axis=0, keepdims=True)\n",
    "    return A, cache\n",
    "\n",
    "def init_params(layer_dims):\n",
    "    L = len(layer_dims)\n",
    "    params = {}\n",
    "    for l in range(1, L):\n",
    "        params[f'W{l}'] = np.random.randn(layer_dims[l], layer_dims[l - 1]) / np.sqrt(layer_dims[l - 1])\n",
    "        params[f'b{l}'] = np.zeros((layer_dims[l], 1))\n",
    "    return params\n",
    "\n",
    "def relu_backward(dA, cache):\n",
    "    Z = cache\n",
    "    dZ = np.array(dA, copy=True)\n",
    "    dZ[Z <= 0] = 0\n",
    "    return dZ\n",
    "\n",
    "def linear_forward(A, W, b):\n",
    "    Z = W.dot(A) + b\n",
    "    cache = (A, W, b)\n",
    "    return Z, cache\n",
    "\n",
    "def linear_activation_forward(A_prev, W, b, f):\n",
    "    Z, linear_cache = linear_forward(A_prev, W, b)\n",
    "    A, activation_cache = f(Z)\n",
    "    cache = (linear_cache, activation_cache)\n",
    "    return A, cache\n",
    "\n",
    "def compute_cost(AL, Y):\n",
    "    m = Y.shape[1]\n",
    "    cost = - (1./m) * np.sum(Y * np.log(AL))\n",
    "    cost = np.squeeze(cost)\n",
    "    return cost\n",
    "\n",
    "def linear_back(dZ, cache):\n",
    "    A_prev, W, b = cache\n",
    "    m = dZ.shape[1]\n",
    "    dW = (1./m) * np.dot(dZ, A_prev.T)\n",
    "    db = (1./m) * np.sum(dZ, axis = 1, keepdims = True)\n",
    "    dA_prev = np.dot(W.T, dZ)\n",
    "    \n",
    "    return dA_prev, dW, db\n",
    "\n",
    "def linear_activation_back(dA, cache, f):\n",
    "    linear_cache, activation_cache = cache\n",
    "    dZ = f(dA, activation_cache)\n",
    "    dA_prev, dW, db = linear_back(dZ, linear_cache)\n",
    "    return dA_prev, dW, db\n",
    "\n",
    "def update_params(params, grads, learning_rate):\n",
    "    L = len(params) // 2\n",
    "    for l in range(L):\n",
    "        params[f'W{l + 1}'] = params[f'W{l + 1}'] - learning_rate * grads[f'dW{l + 1}']\n",
    "        params[f'b{l + 1}'] = params[f'b{l + 1}'] - learning_rate * grads[f'db{l + 1}']\n",
    "    return params\n",
    "\n",
    "def L_model_forward(X, params):\n",
    "    caches = []\n",
    "    A = X\n",
    "    L = len(params) // 2\n",
    "    for l in range(1, L):\n",
    "        A_prev = A\n",
    "        A, cache = linear_activation_forward(A_prev, params[f'W{l}'], params[f'b{l}'], relu)\n",
    "        caches.append(cache)\n",
    "\n",
    "    AL, cache = linear_activation_forward(A, params[f'W{L}'], params[f'b{L}'], softmax)\n",
    "    caches.append(cache)\n",
    "\n",
    "    return AL, caches\n",
    "\n",
    "def L_model_backward(AL, Y, caches):\n",
    "    L = len(caches)\n",
    "    grads = {}\n",
    "    current_cache = caches[L - 1]\n",
    "    dAL = AL - Y\n",
    "    grads[f'dA{L - 1}'], grads[f'dW{L}'], grads[f'db{L}'] = linear_back(dAL, current_cache[0])\n",
    "\n",
    "    for l in reversed(range(L - 1)):\n",
    "        current_cache = caches[l]\n",
    "        dA_prev_temp, dW_temp, db_temp = linear_activation_back(grads[f\"dA{l + 1}\"], current_cache, relu_backward)\n",
    "        grads[f\"dA{l}\"] = dA_prev_temp\n",
    "        grads[f\"dW{l + 1}\"] = dW_temp\n",
    "        grads[f\"db{l + 1}\"] = db_temp\n",
    "\n",
    "    return grads\n",
    "\n",
    "def L_layer_model(X, Y, layer_dims, learning_rate=.063, num_iter=3200, print_cost=False):\n",
    "    costs = []\n",
    "    L = len(layer_dims)\n",
    "    params = init_params(layer_dims)\n",
    "    for i in range(0, num_iter):\n",
    "        AL, caches = L_model_forward(X, params)\n",
    "        cost = compute_cost(AL, Y)\n",
    "        costs.append(cost)\n",
    "        if i % 100 == 0 and i != 0:\n",
    "            print(f'Cost after iteration {i}: {cost}')\n",
    "        grads = L_model_backward(AL, Y, caches)\n",
    "        params = update_params(params, grads, learning_rate)\n",
    "    \n",
    "    return params, costs\n",
    "\n",
    "def predict(X, Y, params):\n",
    "    m = X.shape[1]\n",
    "    probas, caches = L_model_forward(X, params)\n",
    "    p = np.argmax(probas, axis = 0)\n",
    "    if Y is not None:\n",
    "        y = np.argmax(Y, axis = 0)\n",
    "        accuracy = 1./m * np.sum(p == y)\n",
    "        print(f\"Accuracy: {accuracy}\")\n",
    "    return p\n",
    "\n",
    "def one_hot(Y):\n",
    "    m = len(Y)\n",
    "    one_hot_Y = np.zeros((10, m))\n",
    "    one_hot_Y[Y, np.arange(m)] = 1.\n",
    "    return one_hot_Y\n",
    "\n",
    "def visualize_example(train_X, train_Y, index):\n",
    "    example = train_X[:, index]\n",
    "    image = example.reshape((28, 28))\n",
    "    plt.imshow(image)"
   ]
  },
  {
   "cell_type": "code",
   "execution_count": 4,
   "metadata": {},
   "outputs": [],
   "source": [
    "train_data = pd.read_csv('train.csv')\n",
    "train_data = np.array(train_data)\n",
    "\n",
    "np.random.shuffle(train_data)\n",
    "\n",
    "train_examples = train_data.T\n",
    "m = train_examples.shape[1]\n",
    "\n",
    "train_Y = train_examples[0]\n",
    "train_Y = one_hot(train_Y)\n",
    "\n",
    "train_X = train_examples[1:]\n",
    "train_X = train_X / 255."
   ]
  },
  {
   "cell_type": "code",
   "execution_count": 37,
   "metadata": {},
   "outputs": [
    {
     "name": "stdout",
     "output_type": "stream",
     "text": [
      "Cost after iteration 100: 0.21578486823810766\n",
      "Cost after iteration 200: 0.13471921691913946\n",
      "Cost after iteration 300: 0.10280102114785716\n",
      "Cost after iteration 400: 0.08258435179373345\n",
      "Cost after iteration 500: 0.06833770706034598\n",
      "Cost after iteration 600: 0.05772516505009995\n",
      "Cost after iteration 700: 0.049434068262298604\n",
      "Cost after iteration 800: 0.042788027632309114\n",
      "Cost after iteration 900: 0.037336319813459584\n",
      "Cost after iteration 1000: 0.03279763827142079\n",
      "Cost after iteration 1100: 0.028968907566927913\n",
      "Cost after iteration 1200: 0.025705010660235325\n",
      "Cost after iteration 1300: 0.0229239893852234\n",
      "Cost after iteration 1400: 0.020531172431561155\n",
      "Cost after iteration 1500: 0.018462623324116148\n",
      "Cost after iteration 1600: 0.016669240531054508\n",
      "Cost after iteration 1700: 0.015110765026072573\n",
      "Cost after iteration 1800: 0.013750020252644437\n",
      "Cost after iteration 1900: 0.012557526270023909\n",
      "Cost after iteration 2000: 0.01150978718487106\n",
      "Cost after iteration 2100: 0.010587035747654747\n",
      "Cost after iteration 2200: 0.009771612187318918\n",
      "Cost after iteration 2300: 0.009048115199193383\n",
      "Cost after iteration 2400: 0.008403419020561922\n",
      "Cost after iteration 2500: 0.007825542842271287\n",
      "Cost after iteration 2600: 0.007306957520432498\n",
      "Cost after iteration 2700: 0.00683969899077458\n",
      "Cost after iteration 2800: 0.006417207915261022\n",
      "Cost after iteration 2900: 0.006034037355605653\n",
      "Cost after iteration 3000: 0.005686181271380092\n",
      "Cost after iteration 3100: 0.005369616264545101\n",
      "Cost after iteration 3200: 0.005081106803409659\n",
      "Cost after iteration 3300: 0.004817374288930914\n",
      "Cost after iteration 3400: 0.0045760036922326075\n",
      "Cost after iteration 3500: 0.004354796087810088\n",
      "Cost after iteration 3600: 0.004151687674494654\n",
      "Cost after iteration 3700: 0.0039646874802186415\n",
      "Cost after iteration 3800: 0.00379200372680456\n",
      "Cost after iteration 3900: 0.0036320936585841797\n",
      "Cost after iteration 4000: 0.0034836373582902377\n",
      "Cost after iteration 4100: 0.0033453891488176607\n"
     ]
    },
    {
     "data": {
      "text/plain": [
       "[<matplotlib.lines.Line2D at 0x1c250206550>]"
      ]
     },
     "execution_count": 37,
     "metadata": {},
     "output_type": "execute_result"
    },
    {
     "data": {
      "image/png": "[encoded data removed]",
      "text/plain": [
       "<Figure size 640x480 with 1 Axes>"
      ]
     },
     "metadata": {},
     "output_type": "display_data"
    }
   ],
   "source": [
    "layer_dims = [784, 256, 10]\n",
    "params, costs = L_layer_model(train_X, train_Y, layer_dims, learning_rate=1, num_iter=4200, print_cost = True)\n",
    "plt.plot(costs)"
   ]
  },
  {
   "cell_type": "code",
   "execution_count": 38,
   "metadata": {},
   "outputs": [
    {
     "name": "stdout",
     "output_type": "stream",
     "text": [
      "Accuracy: 1.0\n"
     ]
    }
   ],
   "source": [
    "pred_train = predict(train_X, train_Y, params)"
   ]
  },
  {
   "cell_type": "code",
   "execution_count": 6,
   "metadata": {},
   "outputs": [
    {
     "name": "stdout",
     "output_type": "stream",
     "text": [
      "(784,)\n"
     ]
    },
    {
     "ename": "NameError",
     "evalue": "name 'pred_train' is not defined",
     "output_type": "error",
     "traceback": [
      "\u001b[1;31m---------------------------------------------------------------------------\u001b[0m",
      "\u001b[1;31mNameError\u001b[0m                                 Traceback (most recent call last)",
      "\u001b[1;32mc:\\Users\\DX10K\\Desktop\\IT\\projects\\Machine Learning\\digits-classifier\\L-layer-simple\\digit-recog-l-layer.ipynb Cell 6\u001b[0m line \u001b[0;36m4\n\u001b[0;32m      <a href='vscode-notebook-cell:/c%3A/Users/DX10K/Desktop/IT/projects/Machine%20Learning/digits-classifier/L-layer-simple/digit-recog-l-layer.ipynb#W5sZmlsZQ%3D%3D?line=0'>1</a>\u001b[0m ind \u001b[39m=\u001b[39m \u001b[39m10001\u001b[39m\n\u001b[0;32m      <a href='vscode-notebook-cell:/c%3A/Users/DX10K/Desktop/IT/projects/Machine%20Learning/digits-classifier/L-layer-simple/digit-recog-l-layer.ipynb#W5sZmlsZQ%3D%3D?line=1'>2</a>\u001b[0m visualize_example(train_X, train_Y, ind)\n\u001b[1;32m----> <a href='vscode-notebook-cell:/c%3A/Users/DX10K/Desktop/IT/projects/Machine%20Learning/digits-classifier/L-layer-simple/digit-recog-l-layer.ipynb#W5sZmlsZQ%3D%3D?line=3'>4</a>\u001b[0m \u001b[39mprint\u001b[39m(\u001b[39mf\u001b[39m\u001b[39m\"\u001b[39m\u001b[39mPredicted label: \u001b[39m\u001b[39m{\u001b[39;00mpred_train[ind]\u001b[39m}\u001b[39;00m\u001b[39m\"\u001b[39m)\n",
      "\u001b[1;31mNameError\u001b[0m: name 'pred_train' is not defined"
     ]
    },
    {
     "data": {
      "image/png": "[encoded data removed]",
      "text/plain": [
       "<Figure size 640x480 with 1 Axes>"
      ]
     },
     "metadata": {},
     "output_type": "display_data"
    }
   ],
   "source": [
    "ind = 10001\n",
    "visualize_example(train_X, train_Y, ind)\n",
    "\n",
    "print(f\"Predicted label: {pred_train[ind]}\")"
   ]
  },
  {
   "cell_type": "code",
   "execution_count": 40,
   "metadata": {},
   "outputs": [
    {
     "name": "stdout",
     "output_type": "stream",
     "text": [
      "All training examples are correctly labeled.\n"
     ]
    }
   ],
   "source": [
    "incorrect_labels = []\n",
    "for i in range(m):\n",
    "    correct_label = np.argmax(train_Y, axis=0)[i]\n",
    "    predicted_label = pred_train[i]\n",
    "    if predicted_label - correct_label != 0:\n",
    "        incorrect_labels.append({\n",
    "            'example': i,\n",
    "            'correct_label': correct_label,\n",
    "            'predicted_label': predicted_label\n",
    "        })\n",
    "if not incorrect_labels:\n",
    "    print(\"All training examples are correctly labeled.\")\n",
    "else:\n",
    "    misslables_count = len(incorrect_labels)\n",
    "    print(f\"Misslabeled examples: {misslables_count}/{m} ({misslables_count/m * 100} %)\")"
   ]
  },
  {
   "cell_type": "code",
   "execution_count": 41,
   "metadata": {},
   "outputs": [
    {
     "name": "stdout",
     "output_type": "stream",
     "text": [
      "42000\n",
      "[]\n"
     ]
    }
   ],
   "source": [
    "print(m)\n",
    "print(incorrect_labels)"
   ]
  },
  {
   "cell_type": "code",
   "execution_count": 42,
   "metadata": {},
   "outputs": [],
   "source": [
    "test_data = pd.read_csv('test.csv')\n",
    "test_data = np.array(test_data)\n",
    "\n",
    "test_examples = test_data.T\n",
    "test_X = test_examples / 255.\n",
    "\n",
    "m = test_examples.shape[1]"
   ]
  },
  {
   "cell_type": "code",
   "execution_count": 43,
   "metadata": {},
   "outputs": [],
   "source": [
    "pred_test = predict(test_X, None, params)"
   ]
  },
  {
   "cell_type": "code",
   "execution_count": 62,
   "metadata": {},
   "outputs": [
    {
     "name": "stdout",
     "output_type": "stream",
     "text": [
      "Predicted label: 3\n"
     ]
    },
    {
     "data": {
      "image/png": "[encoded data removed]",
      "text/plain": [
       "<Figure size 640x480 with 1 Axes>"
      ]
     },
     "metadata": {},
     "output_type": "display_data"
    }
   ],
   "source": [
    "ind = 25555\n",
    "\n",
    "visualize_example(test_X, [0], ind)\n",
    "predicted_label = pred_test[ind]\n",
    "print(f\"Predicted label: {predicted_label}\")"
   ]
  },
  {
   "cell_type": "code",
   "execution_count": 12,
   "metadata": {
    "tags": [
     "SAVE PREDICTIONS"
    ]
   },
   "outputs": [],
   "source": [
    "# Save test dataset predictions to file\n",
    "with open(\"submission.csv\", \"w\") as f:\n",
    "    f.write(\"ImageId,Label\\n\")\n",
    "    for i in range(m):\n",
    "        f.write(f\"{i + 1},{pred_test[i]}\\n\")"
   ]
  },
  {
   "cell_type": "code",
   "execution_count": 45,
   "metadata": {
    "tags": [
     "SAVE PARAMS TO FILE"
    ]
   },
   "outputs": [],
   "source": [
    "# Save params to file\n",
    "with open(\"params_3L_784x256x10.json\", \"w\") as f:\n",
    "    temp_params = {}\n",
    "    for key in params:\n",
    "        temp_params[key] = params[key].tolist()\n",
    "    json.dump(temp_params, f, indent=4)"
   ]
  },
  {
   "cell_type": "code",
   "execution_count": 5,
   "metadata": {
    "tags": [
     "LOAD PRETRAINED PARAMS"
    ]
   },
   "outputs": [],
   "source": [
    "# Load pretrained params from file\n",
    "params = {}\n",
    "with open(\"params_3L_784x256x10.json\", \"r\") as f:\n",
    "    temp_params = json.load(f)\n",
    "    for key in temp_params:\n",
    "        params[key] = np.array(temp_params[key])"
   ]
  },
  {
   "cell_type": "code",
   "execution_count": null,
   "metadata": {},
   "outputs": [],
   "source": []
  }
 ],
 "metadata": {
  "kernelspec": {
   "display_name": "Python 3.10.2 64-bit",
   "language": "python",
   "name": "python3"
  },
  "language_info": {
   "codemirror_mode": {
    "name": "ipython",
    "version": 3
   },
   "file_extension": ".py",
   "mimetype": "text/x-python",
   "name": "python",
   "nbconvert_exporter": "python",
   "pygments_lexer": "ipython3",
   "version": "3.11.6"
  },
  "orig_nbformat": 4,
  "vscode": {
   "interpreter": {
    "hash": "5684973a9cc9a81678af628fd310be84667ef94c007a2b7be13d7d2cb642a211"
   }
  }
 },
 "nbformat": 4,
 "nbformat_minor": 2
}
